{
 "cells": [
  {
   "cell_type": "markdown",
   "metadata": {},
   "source": [
    "# Analyzing TF motifs Across Different Alu Elements \n",
    "\n",
    "Abin Abraham \n",
    "Created: 2018-04-25 15:10:37\n",
    "\n",
    "This script looks at the amount of overlap between ChromHMM enhancers and Alu elements. \n",
    "\n",
    "Alu Elements Analyzed in Su, M. et al.\n",
    "    - AluYa5\n",
    "    - AluYb8\n",
    "    - AluSp\n",
    "    - AluY\n",
    "    - AluSc\n",
    "    - AluSg\n",
    "    - AluSq\n",
    "    - AluSx\n",
    "    - AluJb\n",
    "    - AluJo\n",
    "\n",
    "Reference: Su, M. et al., 2014. Evolution of Alu elements toward enhancers. CellReports, 7(2), pp.376–385."
   ]
  },
  {
   "cell_type": "code",
   "execution_count": 1,
   "metadata": {
    "collapsed": false
   },
   "outputs": [
    {
     "data": {
      "text/html": [
       "<style>.container { width:90% !important; }</style>"
      ],
      "text/plain": [
       "<IPython.core.display.HTML object>"
      ]
     },
     "metadata": {},
     "output_type": "display_data"
    }
   ],
   "source": [
    "import os, sys\n",
    "import numpy as np \n",
    "import pandas as pd\n",
    "import matplotlib.pyplot as plt\n",
    "from scipy.cluster.hierarchy import dendrogram, linkage\n",
    "\n",
    "from IPython.core.interactiveshell import InteractiveShell\n",
    "InteractiveShell.ast_node_interactivity = \"all\"\n",
    "\n",
    "from IPython.core.display import display, HTML\n",
    "display(HTML(\"<style>.container { width:90% !important; }</style>\"))\n",
    "\n",
    "%matplotlib inline \n",
    "np.set_printoptions(precision=5, suppress=True)  # suppress scientific float notation"
   ]
  },
  {
   "cell_type": "code",
   "execution_count": 2,
   "metadata": {
    "collapsed": false
   },
   "outputs": [],
   "source": [
    "### FILE PATHS \n",
    "ROOT_PATH_TE_FIMO = \"/dors/capra_lab/users/abraha1/projects/transposable_elements/data/fimo_repeatmasker/fimo_output/individualTE_fimo_output\"\n",
    "TE_FIMO_FILE = {    \n",
    "    \"AluYa5\":\"fimo_AluYa5.txt\",\n",
    "    \"AluYb8\":\"fimo_AluYb8.txt\",\n",
    "    \"AluSp\":\"fimo_AluSp.txt\",\n",
    "    \"AluY\":\"fimo_AluY.txt\",\n",
    "    \"AluSc\":\"fimo_AluSc.txt\",\n",
    "    \"AluSg\":\"fimo_AluSg.txt\",\n",
    "    \"AluSq\":\"fimo_AluSq.txt\",\n",
    "    \"AluSx\":\"fimo_AluSx.txt\",\n",
    "    \"AluJb\":\"fimo_AluJb.txt\",\n",
    "    \"AluJo\":\"fimo_AluJo.txt\"} \n",
    "\n",
    "\n",
    "ROOT_PATH_chromHMMEnhancer = \"/dors/capra_lab/users/abraha1/projects/transposable_elements/data/tf_dynamics/alu_TF_cluster/chromHMM_Alu_intersection\"\n",
    "CHROMHMM_ENHANCER_INTERACTION_FILE={\n",
    "    \"AluJb\":\"AluJb_chromHMMenhancer_intersect.out\",\n",
    "    \"AluJo\":\"AluJo_chromHMMenhancer_intersect.out\",\n",
    "    \"AluSc\":\"AluSc_chromHMMenhancer_intersect.out\",\n",
    "    \"AluSg\":\"AluSg_chromHMMenhancer_intersect.out\",\n",
    "    \"AluSp\":\"AluSp_chromHMMenhancer_intersect.out\",\n",
    "    \"AluSq\":\"AluSq_chromHMMenhancer_intersect.out\",\n",
    "    \"AluSx\":\"AluSx_chromHMMenhancer_intersect.out\",\n",
    "    \"AluYa5\":\"AluYa5_chromHMMenhancer_intersect.out\",\n",
    "    \"AluYb8\":\"AluYb8_chromHMMenhancer_intersect.out\",\n",
    "    \"AluY\":\"AluY_chromHMMenhancer_intersect.out\"}\n",
    "\n",
    "ROOT_PATH_ENHANCER_INTERACTION = \"/dors/capra_lab/users/abraha1/projects/transposable_elements/data/tf_dynamics/alu_TF_cluster\"\n",
    "ENHANCER_INTERACTION_FILE = { \n",
    "    \"AluJb\":\"AluJb_FANTOM_enh_repeatmasker_TE_TF_intersection.tsv\",\n",
    "    \"AluJo\":\"AluJo_FANTOM_enh_repeatmasker_TE_TF_intersection.tsv\",\n",
    "    \"AluSc\":\"AluSc_FANTOM_enh_repeatmasker_TE_TF_intersection.tsv\",\n",
    "    \"AluSg\":\"AluSg_FANTOM_enh_repeatmasker_TE_TF_intersection.tsv\",\n",
    "    \"AluSp\":\"AluSp_FANTOM_enh_repeatmasker_TE_TF_intersection.tsv\",\n",
    "    \"AluSq\":\"AluSq_FANTOM_enh_repeatmasker_TE_TF_intersection.tsv\",\n",
    "    \"AluSx\":\"AluSx_FANTOM_enh_repeatmasker_TE_TF_intersection.tsv\",\n",
    "    \"AluYa5\":\"AluYa5_FANTOM_enh_repeatmasker_TE_TF_intersection.tsv\",\n",
    "    \"AluYb8\":\"AluYb8_FANTOM_enh_repeatmasker_TE_TF_intersection.tsv\",\n",
    "    \"AluY\":\"AluY_FANTOM_enh_repeatmasker_TE_TF_intersection.tsv\"}\n"
   ]
  },
  {
   "cell_type": "code",
   "execution_count": 3,
   "metadata": {
    "collapsed": false
   },
   "outputs": [],
   "source": [
    "### LOAD FILE PATHS \n",
    "# df = pd.read_csv(os.path.join(ROOT_PATH_chromHMMEnhancer, CHROMHMM_ENHANCER_INTERACTION_FILE['AluJo']), sep=\"\\t\", header=None)\n",
    "df_chrom = pd.read_csv(os.path.join(ROOT_PATH_chromHMMEnhancer,CHROMHMM_ENHANCER_INTERACTION_FILE['AluJo']), sep=\"\\t\", header=None,usecols=np.arange(13))"
   ]
  },
  {
   "cell_type": "code",
   "execution_count": 4,
   "metadata": {
    "collapsed": false
   },
   "outputs": [],
   "source": [
    "### CLEAN UP DATA\n",
    "df_chrom.columns = [\"TF_chr\", \"TF_start\",\"TF_end\", \"TF\",\"TE_coordinate\",\n",
    "              \"motif_score\", \"strand\", \"p_value\",\n",
    "                \"q_value\",\"motif_seq\",\"enhancer_chr\",\"enhancer_start\",\"enhancer_end\"]\n",
    "\n",
    "\n"
   ]
  },
  {
   "cell_type": "code",
   "execution_count": 5,
   "metadata": {
    "collapsed": true
   },
   "outputs": [],
   "source": [
    "df_chrom['enhancer_overlap'] = np.where(df_chrom['enhancer_chr'] ==\".\", False, True);"
   ]
  },
  {
   "cell_type": "code",
   "execution_count": 6,
   "metadata": {
    "collapsed": false
   },
   "outputs": [
    {
     "data": {
      "text/html": [
       "<div>\n",
       "<table border=\"1\" class=\"dataframe\">\n",
       "  <thead>\n",
       "    <tr style=\"text-align: right;\">\n",
       "      <th></th>\n",
       "      <th>TF_chr</th>\n",
       "      <th>TF_start</th>\n",
       "      <th>TF_end</th>\n",
       "      <th>TF</th>\n",
       "      <th>TE_coordinate</th>\n",
       "      <th>motif_score</th>\n",
       "      <th>strand</th>\n",
       "      <th>p_value</th>\n",
       "      <th>q_value</th>\n",
       "      <th>motif_seq</th>\n",
       "      <th>enhancer_chr</th>\n",
       "      <th>enhancer_start</th>\n",
       "      <th>enhancer_end</th>\n",
       "      <th>enhancer_overlap</th>\n",
       "    </tr>\n",
       "  </thead>\n",
       "  <tbody>\n",
       "    <tr>\n",
       "      <th>0</th>\n",
       "      <td>chr13</td>\n",
       "      <td>57152862</td>\n",
       "      <td>57152881</td>\n",
       "      <td>SP1_HUMAN.H10MO.C</td>\n",
       "      <td>chr13:57152642-57152960</td>\n",
       "      <td>23.8681</td>\n",
       "      <td>-</td>\n",
       "      <td>3.130000e-11</td>\n",
       "      <td>0.000017</td>\n",
       "      <td>GGGGGGGGGGCGGGGCGGG</td>\n",
       "      <td>.</td>\n",
       "      <td>-1</td>\n",
       "      <td>-1</td>\n",
       "      <td>False</td>\n",
       "    </tr>\n",
       "    <tr>\n",
       "      <th>1</th>\n",
       "      <td>chr13</td>\n",
       "      <td>57146295</td>\n",
       "      <td>57146317</td>\n",
       "      <td>MAZ_HUMAN.H10MO.A</td>\n",
       "      <td>chr13:57146072-57146387</td>\n",
       "      <td>28.2273</td>\n",
       "      <td>-</td>\n",
       "      <td>3.400000e-11</td>\n",
       "      <td>0.000017</td>\n",
       "      <td>GGGTGGGGCGGGGGGGGGGGGG</td>\n",
       "      <td>chr13</td>\n",
       "      <td>57145799</td>\n",
       "      <td>57147199</td>\n",
       "      <td>True</td>\n",
       "    </tr>\n",
       "    <tr>\n",
       "      <th>2</th>\n",
       "      <td>chr4</td>\n",
       "      <td>113561330</td>\n",
       "      <td>113561350</td>\n",
       "      <td>P73_HUMAN.H10MO.A</td>\n",
       "      <td>chr4:113561203-113561490</td>\n",
       "      <td>24.5200</td>\n",
       "      <td>+</td>\n",
       "      <td>5.380000e-11</td>\n",
       "      <td>0.000017</td>\n",
       "      <td>GGACATGCCTGGGCATGCCT</td>\n",
       "      <td>chr4</td>\n",
       "      <td>113559551</td>\n",
       "      <td>113561351</td>\n",
       "      <td>True</td>\n",
       "    </tr>\n",
       "    <tr>\n",
       "      <th>3</th>\n",
       "      <td>chr15</td>\n",
       "      <td>59103908</td>\n",
       "      <td>59103930</td>\n",
       "      <td>MAZ_HUMAN.H10MO.A</td>\n",
       "      <td>chr15:59103785-59104109</td>\n",
       "      <td>27.6515</td>\n",
       "      <td>-</td>\n",
       "      <td>7.970000e-11</td>\n",
       "      <td>0.000017</td>\n",
       "      <td>GGGCGGGGGGCGGGGGGCGGGG</td>\n",
       "      <td>.</td>\n",
       "      <td>-1</td>\n",
       "      <td>-1</td>\n",
       "      <td>False</td>\n",
       "    </tr>\n",
       "    <tr>\n",
       "      <th>4</th>\n",
       "      <td>chr4</td>\n",
       "      <td>113561330</td>\n",
       "      <td>113561350</td>\n",
       "      <td>P53_HUMAN.H10MO.B</td>\n",
       "      <td>chr4:113561203-113561490</td>\n",
       "      <td>26.3636</td>\n",
       "      <td>+</td>\n",
       "      <td>8.480000e-11</td>\n",
       "      <td>0.000017</td>\n",
       "      <td>GGACATGCCTGGGCATGCCT</td>\n",
       "      <td>chr4</td>\n",
       "      <td>113559551</td>\n",
       "      <td>113561351</td>\n",
       "      <td>True</td>\n",
       "    </tr>\n",
       "  </tbody>\n",
       "</table>\n",
       "</div>"
      ],
      "text/plain": [
       "  TF_chr   TF_start     TF_end                 TF             TE_coordinate  motif_score strand       p_value  \\\n",
       "0  chr13   57152862   57152881  SP1_HUMAN.H10MO.C   chr13:57152642-57152960      23.8681      -  3.130000e-11   \n",
       "1  chr13   57146295   57146317  MAZ_HUMAN.H10MO.A   chr13:57146072-57146387      28.2273      -  3.400000e-11   \n",
       "2   chr4  113561330  113561350  P73_HUMAN.H10MO.A  chr4:113561203-113561490      24.5200      +  5.380000e-11   \n",
       "3  chr15   59103908   59103930  MAZ_HUMAN.H10MO.A   chr15:59103785-59104109      27.6515      -  7.970000e-11   \n",
       "4   chr4  113561330  113561350  P53_HUMAN.H10MO.B  chr4:113561203-113561490      26.3636      +  8.480000e-11   \n",
       "\n",
       "    q_value               motif_seq enhancer_chr  enhancer_start  enhancer_end enhancer_overlap  \n",
       "0  0.000017     GGGGGGGGGGCGGGGCGGG            .              -1            -1            False  \n",
       "1  0.000017  GGGTGGGGCGGGGGGGGGGGGG        chr13        57145799      57147199             True  \n",
       "2  0.000017    GGACATGCCTGGGCATGCCT         chr4       113559551     113561351             True  \n",
       "3  0.000017  GGGCGGGGGGCGGGGGGCGGGG            .              -1            -1            False  \n",
       "4  0.000017    GGACATGCCTGGGCATGCCT         chr4       113559551     113561351             True  "
      ]
     },
     "execution_count": 6,
     "metadata": {},
     "output_type": "execute_result"
    }
   ],
   "source": [
    "df_chrom.head()"
   ]
  },
  {
   "cell_type": "code",
   "execution_count": 7,
   "metadata": {
    "collapsed": false
   },
   "outputs": [
    {
     "data": {
      "text/plain": [
       "(248218, 14)"
      ]
     },
     "execution_count": 7,
     "metadata": {},
     "output_type": "execute_result"
    },
    {
     "data": {
      "text/plain": [
       "(1009361, 14)"
      ]
     },
     "execution_count": 7,
     "metadata": {},
     "output_type": "execute_result"
    },
    {
     "data": {
      "text/plain": [
       "47071"
      ]
     },
     "execution_count": 7,
     "metadata": {},
     "output_type": "execute_result"
    }
   ],
   "source": [
    "### Enhancer Overlap \n",
    "df_chrom[df_chrom['enhancer_overlap'] == True].shape\n",
    "df_chrom.shape\n",
    "df_chrom.TE_coordinate.nunique()\n"
   ]
  },
  {
   "cell_type": "code",
   "execution_count": 8,
   "metadata": {
    "collapsed": false
   },
   "outputs": [],
   "source": [
    "TE_no_enhancer =  set(df_chrom.loc[df_chrom['enhancer_overlap']== False,'TE_coordinate'].unique())\n",
    "TE_yes_enhancer =  set(df_chrom.loc[df_chrom['enhancer_overlap']== True,'TE_coordinate'].unique())"
   ]
  },
  {
   "cell_type": "code",
   "execution_count": 9,
   "metadata": {
    "collapsed": false
   },
   "outputs": [],
   "source": [
    "num_TE_with_and_without_ovelap = len(TE_no_enhancer.intersection(TE_yes_enhancer))\n",
    "num_TE_without_ovelap = len(TE_no_enhancer)\n",
    "num_TE_with_ovelap = len(TE_yes_enhancer)"
   ]
  },
  {
   "cell_type": "code",
   "execution_count": 10,
   "metadata": {
    "collapsed": false
   },
   "outputs": [
    {
     "name": "stdout",
     "output_type": "stream",
     "text": [
      "Number of TE with and without enhancer overlap: 2591\n",
      "Number of TE without enhancer overlap: 36755\n",
      "Number of TE with enhancer overlap: 12907\n",
      "Total number of TE: 47071\n",
      "Fraction of TE with any enhancer overlap: 0.2742028000254934\n"
     ]
    }
   ],
   "source": [
    "print(\"Number of TE with and without enhancer overlap: {}\".format(num_TE_with_and_without_ovelap))\n",
    "print(\"Number of TE without enhancer overlap: {}\".format(num_TE_without_ovelap))\n",
    "print(\"Number of TE with enhancer overlap: {}\".format(num_TE_with_ovelap))\n",
    "print(\"Total number of TE: {}\".format(df_chrom.TE_coordinate.nunique()))\n",
    "print(\"Fraction of TE with any enhancer overlap: {}\".format(num_TE_with_ovelap/df_chrom.TE_coordinate.nunique()))"
   ]
  },
  {
   "cell_type": "code",
   "execution_count": 11,
   "metadata": {
    "collapsed": false
   },
   "outputs": [],
   "source": [
    "# # calc overlap of unique TE with enhancer \n",
    "# unique_TE = df_chrom.TE_coordinate.unique()\n",
    "# unique_TE.shape\n",
    "# temp_preallocate = np.zeros(unique_TE.shape[0])a\n",
    "\n",
    "# unique_TE = np.stack((unique_TE, temp_preallocate), axis=-1)\n",
    "\n",
    "\n",
    "# df_chrom.loc[df_chrom['enhancer_chr'==\".\"],'TE_coordinate']\n",
    "\n",
    "\n",
    "\n",
    "# # for index, this_TE in enumerate(unique_TE[:,0]): \n",
    "# #     print(index)\n",
    "# #     truth_value = any(df_chrom.loc[df_chrom['TE_coordinate'] == this_TE]['enhancer_overlap'])\n",
    "# #     unique_TE[index, 1] = truth_value\n",
    "    "
   ]
  },
  {
   "cell_type": "code",
   "execution_count": 14,
   "metadata": {
    "collapsed": false
   },
   "outputs": [
    {
     "data": {
      "text/plain": [
       "(1009361, 14)"
      ]
     },
     "execution_count": 14,
     "metadata": {},
     "output_type": "execute_result"
    }
   ],
   "source": [
    "df_chrom.shape"
   ]
  },
  {
   "cell_type": "code",
   "execution_count": 17,
   "metadata": {
    "collapsed": false
   },
   "outputs": [],
   "source": [
    "agg_func = {'motif_score':['count','mean','median']}\n",
    "gb_df = df_chrom.groupby(by=['TE_coordinate','TF']).agg(agg_func).unstack(fill_value=0)"
   ]
  },
  {
   "cell_type": "code",
   "execution_count": 45,
   "metadata": {
    "collapsed": false
   },
   "outputs": [
    {
     "data": {
      "text/plain": [
       "(47071, 274)"
      ]
     },
     "execution_count": 45,
     "metadata": {},
     "output_type": "execute_result"
    },
    {
     "data": {
      "text/html": [
       "<div>\n",
       "<table border=\"1\" class=\"dataframe\">\n",
       "  <thead>\n",
       "    <tr style=\"text-align: right;\">\n",
       "      <th>TF</th>\n",
       "      <th>AHR_HUMAN.H10MO.B</th>\n",
       "      <th>AIRE_HUMAN.H10MO.C</th>\n",
       "      <th>ALX1_HUMAN.H10MO.B</th>\n",
       "      <th>ANDR_HUMAN.H10MO.A</th>\n",
       "      <th>AP2A_HUMAN.H10MO.C</th>\n",
       "      <th>AP2B_HUMAN.H10MO.B</th>\n",
       "      <th>AP2C_HUMAN.H10MO.A</th>\n",
       "      <th>ARI5B_HUMAN.H10MO.C</th>\n",
       "      <th>ARNT_HUMAN.H10MO.B</th>\n",
       "      <th>ATF1_HUMAN.H10MO.B</th>\n",
       "      <th>...</th>\n",
       "      <th>XBP1_HUMAN.H10MO.C</th>\n",
       "      <th>ZEB1_HUMAN.H10MO.B</th>\n",
       "      <th>ZFX_HUMAN.H10MO.C</th>\n",
       "      <th>ZIC1_HUMAN.H10MO.B</th>\n",
       "      <th>ZIC2_HUMAN.H10MO.C</th>\n",
       "      <th>ZIC3_HUMAN.H10MO.C</th>\n",
       "      <th>ZKSC1_HUMAN.H10MO.C</th>\n",
       "      <th>ZN143_HUMAN.H10MO.A</th>\n",
       "      <th>ZN350_HUMAN.H10MO.C</th>\n",
       "      <th>ZN384_HUMAN.H10MO.C</th>\n",
       "    </tr>\n",
       "    <tr>\n",
       "      <th>TE_coordinate</th>\n",
       "      <th></th>\n",
       "      <th></th>\n",
       "      <th></th>\n",
       "      <th></th>\n",
       "      <th></th>\n",
       "      <th></th>\n",
       "      <th></th>\n",
       "      <th></th>\n",
       "      <th></th>\n",
       "      <th></th>\n",
       "      <th></th>\n",
       "      <th></th>\n",
       "      <th></th>\n",
       "      <th></th>\n",
       "      <th></th>\n",
       "      <th></th>\n",
       "      <th></th>\n",
       "      <th></th>\n",
       "      <th></th>\n",
       "      <th></th>\n",
       "      <th></th>\n",
       "    </tr>\n",
       "  </thead>\n",
       "  <tbody>\n",
       "    <tr>\n",
       "      <th>chr10:100023624-100023915</th>\n",
       "      <td>0</td>\n",
       "      <td>0</td>\n",
       "      <td>0</td>\n",
       "      <td>0</td>\n",
       "      <td>0</td>\n",
       "      <td>0</td>\n",
       "      <td>0</td>\n",
       "      <td>0</td>\n",
       "      <td>0</td>\n",
       "      <td>0</td>\n",
       "      <td>...</td>\n",
       "      <td>0</td>\n",
       "      <td>1</td>\n",
       "      <td>0</td>\n",
       "      <td>0</td>\n",
       "      <td>0</td>\n",
       "      <td>0</td>\n",
       "      <td>0</td>\n",
       "      <td>0</td>\n",
       "      <td>0</td>\n",
       "      <td>0</td>\n",
       "    </tr>\n",
       "    <tr>\n",
       "      <th>chr10:100029965-100030270</th>\n",
       "      <td>0</td>\n",
       "      <td>0</td>\n",
       "      <td>0</td>\n",
       "      <td>0</td>\n",
       "      <td>0</td>\n",
       "      <td>0</td>\n",
       "      <td>0</td>\n",
       "      <td>0</td>\n",
       "      <td>0</td>\n",
       "      <td>0</td>\n",
       "      <td>...</td>\n",
       "      <td>0</td>\n",
       "      <td>0</td>\n",
       "      <td>0</td>\n",
       "      <td>0</td>\n",
       "      <td>0</td>\n",
       "      <td>0</td>\n",
       "      <td>0</td>\n",
       "      <td>0</td>\n",
       "      <td>0</td>\n",
       "      <td>0</td>\n",
       "    </tr>\n",
       "    <tr>\n",
       "      <th>chr10:100049590-100049706</th>\n",
       "      <td>0</td>\n",
       "      <td>0</td>\n",
       "      <td>0</td>\n",
       "      <td>0</td>\n",
       "      <td>0</td>\n",
       "      <td>1</td>\n",
       "      <td>0</td>\n",
       "      <td>0</td>\n",
       "      <td>0</td>\n",
       "      <td>0</td>\n",
       "      <td>...</td>\n",
       "      <td>0</td>\n",
       "      <td>0</td>\n",
       "      <td>0</td>\n",
       "      <td>0</td>\n",
       "      <td>0</td>\n",
       "      <td>0</td>\n",
       "      <td>0</td>\n",
       "      <td>0</td>\n",
       "      <td>0</td>\n",
       "      <td>0</td>\n",
       "    </tr>\n",
       "    <tr>\n",
       "      <th>chr10:100086749-100087023</th>\n",
       "      <td>0</td>\n",
       "      <td>0</td>\n",
       "      <td>0</td>\n",
       "      <td>0</td>\n",
       "      <td>0</td>\n",
       "      <td>0</td>\n",
       "      <td>0</td>\n",
       "      <td>0</td>\n",
       "      <td>0</td>\n",
       "      <td>0</td>\n",
       "      <td>...</td>\n",
       "      <td>0</td>\n",
       "      <td>3</td>\n",
       "      <td>0</td>\n",
       "      <td>0</td>\n",
       "      <td>0</td>\n",
       "      <td>0</td>\n",
       "      <td>0</td>\n",
       "      <td>1</td>\n",
       "      <td>0</td>\n",
       "      <td>0</td>\n",
       "    </tr>\n",
       "    <tr>\n",
       "      <th>chr10:100098293-100098562</th>\n",
       "      <td>0</td>\n",
       "      <td>0</td>\n",
       "      <td>0</td>\n",
       "      <td>0</td>\n",
       "      <td>0</td>\n",
       "      <td>0</td>\n",
       "      <td>0</td>\n",
       "      <td>0</td>\n",
       "      <td>0</td>\n",
       "      <td>0</td>\n",
       "      <td>...</td>\n",
       "      <td>0</td>\n",
       "      <td>0</td>\n",
       "      <td>0</td>\n",
       "      <td>0</td>\n",
       "      <td>0</td>\n",
       "      <td>0</td>\n",
       "      <td>0</td>\n",
       "      <td>0</td>\n",
       "      <td>0</td>\n",
       "      <td>0</td>\n",
       "    </tr>\n",
       "  </tbody>\n",
       "</table>\n",
       "<p>5 rows × 274 columns</p>\n",
       "</div>"
      ],
      "text/plain": [
       "TF                         AHR_HUMAN.H10MO.B  AIRE_HUMAN.H10MO.C  ALX1_HUMAN.H10MO.B  ANDR_HUMAN.H10MO.A  \\\n",
       "TE_coordinate                                                                                              \n",
       "chr10:100023624-100023915                  0                   0                   0                   0   \n",
       "chr10:100029965-100030270                  0                   0                   0                   0   \n",
       "chr10:100049590-100049706                  0                   0                   0                   0   \n",
       "chr10:100086749-100087023                  0                   0                   0                   0   \n",
       "chr10:100098293-100098562                  0                   0                   0                   0   \n",
       "\n",
       "TF                         AP2A_HUMAN.H10MO.C  AP2B_HUMAN.H10MO.B  AP2C_HUMAN.H10MO.A  ARI5B_HUMAN.H10MO.C  \\\n",
       "TE_coordinate                                                                                                \n",
       "chr10:100023624-100023915                   0                   0                   0                    0   \n",
       "chr10:100029965-100030270                   0                   0                   0                    0   \n",
       "chr10:100049590-100049706                   0                   1                   0                    0   \n",
       "chr10:100086749-100087023                   0                   0                   0                    0   \n",
       "chr10:100098293-100098562                   0                   0                   0                    0   \n",
       "\n",
       "TF                         ARNT_HUMAN.H10MO.B  ATF1_HUMAN.H10MO.B         ...           XBP1_HUMAN.H10MO.C  \\\n",
       "TE_coordinate                                                             ...                                \n",
       "chr10:100023624-100023915                   0                   0         ...                            0   \n",
       "chr10:100029965-100030270                   0                   0         ...                            0   \n",
       "chr10:100049590-100049706                   0                   0         ...                            0   \n",
       "chr10:100086749-100087023                   0                   0         ...                            0   \n",
       "chr10:100098293-100098562                   0                   0         ...                            0   \n",
       "\n",
       "TF                         ZEB1_HUMAN.H10MO.B  ZFX_HUMAN.H10MO.C  ZIC1_HUMAN.H10MO.B  ZIC2_HUMAN.H10MO.C  \\\n",
       "TE_coordinate                                                                                              \n",
       "chr10:100023624-100023915                   1                  0                   0                   0   \n",
       "chr10:100029965-100030270                   0                  0                   0                   0   \n",
       "chr10:100049590-100049706                   0                  0                   0                   0   \n",
       "chr10:100086749-100087023                   3                  0                   0                   0   \n",
       "chr10:100098293-100098562                   0                  0                   0                   0   \n",
       "\n",
       "TF                         ZIC3_HUMAN.H10MO.C  ZKSC1_HUMAN.H10MO.C  ZN143_HUMAN.H10MO.A  ZN350_HUMAN.H10MO.C  \\\n",
       "TE_coordinate                                                                                                  \n",
       "chr10:100023624-100023915                   0                    0                    0                    0   \n",
       "chr10:100029965-100030270                   0                    0                    0                    0   \n",
       "chr10:100049590-100049706                   0                    0                    0                    0   \n",
       "chr10:100086749-100087023                   0                    0                    1                    0   \n",
       "chr10:100098293-100098562                   0                    0                    0                    0   \n",
       "\n",
       "TF                         ZN384_HUMAN.H10MO.C  \n",
       "TE_coordinate                                   \n",
       "chr10:100023624-100023915                    0  \n",
       "chr10:100029965-100030270                    0  \n",
       "chr10:100049590-100049706                    0  \n",
       "chr10:100086749-100087023                    0  \n",
       "chr10:100098293-100098562                    0  \n",
       "\n",
       "[5 rows x 274 columns]"
      ]
     },
     "execution_count": 45,
     "metadata": {},
     "output_type": "execute_result"
    }
   ],
   "source": [
    "gb_df_count = gb_df['motif_score']['count']\n",
    "gb_df_count.shape\n",
    "gb_df_count.head()"
   ]
  },
  {
   "cell_type": "code",
   "execution_count": 47,
   "metadata": {
    "collapsed": false
   },
   "outputs": [
    {
     "data": {
      "text/plain": [
       "274"
      ]
     },
     "execution_count": 47,
     "metadata": {},
     "output_type": "execute_result"
    }
   ],
   "source": [
    "# gb_df_count.head()\n",
    "tf_count_per_TE = gb_df_count.sum(axis=1)\n",
    "total_tf_count = gb_df_count.sum(axis=0)\n"
   ]
  },
  {
   "cell_type": "code",
   "execution_count": 49,
   "metadata": {
    "collapsed": false
   },
   "outputs": [
    {
     "data": {
      "image/png": "[encoded data removed]",
      "text/plain": [
       "<matplotlib.figure.Figure at 0x7f12a44803c8>"
      ]
     },
     "metadata": {},
     "output_type": "display_data"
    }
   ],
   "source": [
    "## plot\n",
    "fig, ax = plt.subplots(1,2)\n",
    "_ = ax[0].hist(tf_count_per_TE.values, alpha = 0.5, color = 'r', bins=100)\n",
    "_ = ax[0].set_xlabel('Total TF hits per TE Distribution')\n",
    "_ = ax[0].set_ylabel('count')\n",
    "_ = ax[0].set_title('total # of TF per TE')\n",
    "\n",
    "_ = ax[1].hist(total_tf_count.values, alpha = 0.5, color = 'r', bins=100)\n",
    "_ = ax[1].set_xlabel('TF hits ')\n",
    "_ = ax[1].set_ylabel('count')\n",
    "_ = ax[1].set_title('Total TF hits Across all TE')"
   ]
  },
  {
   "cell_type": "code",
   "execution_count": null,
   "metadata": {
    "collapsed": true
   },
   "outputs": [],
   "source": []
  }
 ],
 "metadata": {
  "kernelspec": {
   "display_name": "Python [conda root]",
   "language": "python",
   "name": "conda-root-py"
  },
  "language_info": {
   "codemirror_mode": {
    "name": "ipython",
    "version": 3
   },
   "file_extension": ".py",
   "mimetype": "text/x-python",
   "name": "python",
   "nbconvert_exporter": "python",
   "pygments_lexer": "ipython3",
   "version": "3.6.0"
  }
 },
 "nbformat": 4,
 "nbformat_minor": 2
}

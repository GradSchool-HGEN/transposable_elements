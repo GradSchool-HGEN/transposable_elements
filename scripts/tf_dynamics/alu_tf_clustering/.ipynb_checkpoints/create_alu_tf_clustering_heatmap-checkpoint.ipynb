{
 "cells": [
  {
   "cell_type": "markdown",
   "metadata": {},
   "source": [
    "# Analyzing TF motifs Across Different Alu Elements \n",
    "\n",
    "Abin Abraham \n",
    "Created: 2018-04-27 10:59:06\n",
    "\n",
    "** - dedicated script to generate full heatmap **\n",
    "\n",
    "Alu Elements Analyzed in Su, M. et al.\n",
    "    - AluYa5\n",
    "    - AluYb8\n",
    "    - AluSp\n",
    "    - AluY\n",
    "    - AluSc\n",
    "    - AluSg\n",
    "    - AluSq\n",
    "    - AluSx\n",
    "    - AluJb\n",
    "    - AluJo\n",
    "\n",
    "Reference: Su, M. et al., 2014. Evolution of Alu elements toward enhancers. CellReports, 7(2), pp.376–385."
   ]
  },
  {
   "cell_type": "code",
   "execution_count": 3,
   "metadata": {
    "collapsed": false
   },
   "outputs": [
    {
     "data": {
      "text/html": [
       "<style>.container { width:90% !important; }</style>"
      ],
      "text/plain": [
       "<IPython.core.display.HTML object>"
      ]
     },
     "metadata": {},
     "output_type": "display_data"
    }
   ],
   "source": [
    "import os, sys\n",
    "import numpy as np \n",
    "import pandas as pd\n",
    "import matplotlib.pyplot as plt\n",
    "from scipy.cluster.hierarchy import dendrogram, linkage\n",
    "\n",
    "from IPython.core.interactiveshell import InteractiveShell\n",
    "InteractiveShell.ast_node_interactivity = \"all\"\n",
    "\n",
    "from IPython.core.display import display, HTML\n",
    "display(HTML(\"<style>.container { width:90% !important; }</style>\"))\n",
    "\n",
    "%matplotlib inline \n",
    "np.set_printoptions(precision=5, suppress=True)  # suppress scientific float notation"
   ]
  },
  {
   "cell_type": "code",
   "execution_count": 4,
   "metadata": {
    "collapsed": false
   },
   "outputs": [],
   "source": [
    "### FILE PATHS \n",
    "ROOT_PATH_TE_FIMO = \"/dors/capra_lab/users/abraha1/projects/transposable_elements/data/fimo_repeatmasker/fimo_output/individualTE_fimo_output\"\n",
    "TE_FIMO_FILE = {    \n",
    "    \"AluYa5\":\"fimo_AluYa5.txt\",\n",
    "    \"AluYb8\":\"fimo_AluYb8.txt\",\n",
    "    \"AluSp\":\"fimo_AluSp.txt\",\n",
    "    \"AluY\":\"fimo_AluY.txt\",\n",
    "    \"AluSc\":\"fimo_AluSc.txt\",\n",
    "    \"AluSg\":\"fimo_AluSg.txt\",\n",
    "    \"AluSq\":\"fimo_AluSq.txt\",\n",
    "    \"AluSx\":\"fimo_AluSx.txt\",\n",
    "    \"AluJb\":\"fimo_AluJb.txt\",\n",
    "    \"AluJo\":\"fimo_AluJo.txt\"} "
   ]
  },
  {
   "cell_type": "code",
   "execution_count": 5,
   "metadata": {
    "collapsed": false
   },
   "outputs": [],
   "source": [
    "### LOAD FILE PATHS \n",
    "df = pd.read_csv(os.path.join(ROOT_PATH_TE_FIMO, TE_FIMO_FILE['AluJo']), sep=\"\\t\", header=None)"
   ]
  },
  {
   "cell_type": "code",
   "execution_count": 6,
   "metadata": {
    "collapsed": false
   },
   "outputs": [],
   "source": [
    "### CLEAN UP DATA\n",
    "df.columns = [\"TF\", \"TE\", \"TE_coordinates\",\"TF_start_1based\",\n",
    "              \"TF_end\", \"strand\",\"motif_score\",\"p_value\",\n",
    "              \"motif_seq\",\"q_value\",\"num_bases_in_TE\",\"num_bases_in_TFmotif\"]\n",
    "\n",
    "df = df.drop([ \"motif_seq\", \"p_value\", \"strand\",\"num_bases_in_TE\",\"num_bases_in_TFmotif\"], axis=1)\n",
    "nodups_df = df.drop_duplicates(subset=['TF','TE_coordinates'], keep=False)"
   ]
  },
  {
   "cell_type": "code",
   "execution_count": 7,
   "metadata": {
    "collapsed": false
   },
   "outputs": [
    {
     "data": {
      "text/plain": [
       "(735240, 7)"
      ]
     },
     "execution_count": 7,
     "metadata": {},
     "output_type": "execute_result"
    },
    {
     "data": {
      "text/plain": [
       "(1009361, 7)"
      ]
     },
     "execution_count": 7,
     "metadata": {},
     "output_type": "execute_result"
    },
    {
     "data": {
      "text/plain": [
       "274"
      ]
     },
     "execution_count": 7,
     "metadata": {},
     "output_type": "execute_result"
    },
    {
     "data": {
      "text/plain": [
       "47062"
      ]
     },
     "execution_count": 7,
     "metadata": {},
     "output_type": "execute_result"
    }
   ],
   "source": [
    "nodups_df.shape\n",
    "df.shape\n",
    "nodups_df['TF'].nunique()\n",
    "nodups_df['TE_coordinates'].nunique()"
   ]
  },
  {
   "cell_type": "markdown",
   "metadata": {},
   "source": [
    "NOTE: substantial number of rows are dropped when duplicate TE-TF pairs are removed."
   ]
  },
  {
   "cell_type": "code",
   "execution_count": 10,
   "metadata": {
    "collapsed": false
   },
   "outputs": [],
   "source": [
    "## GROUPBY\n",
    "agg_func = {'motif_score':['count','mean','median']}\n",
    "# nodups_df.groupby(by=['TF','TE_coordinates']).agg(agg_func).swaplevel('TE_coordinates','TF')\n",
    "# gb_df = nodups_df.groupby(by=['TE_coordinates','TF']).agg(agg_func).reset_index()\n",
    "\n",
    "gb_df = nodups_df.groupby(by=['TE_coordinates','TF']).agg(agg_func).unstack(fill_value=0)"
   ]
  },
  {
   "cell_type": "code",
   "execution_count": 11,
   "metadata": {
    "collapsed": false
   },
   "outputs": [],
   "source": [
    "# gb_df.loc['chr10:100023624-100023915',('motif_score','count')].as_matrix()\n",
    "count_df = gb_df.loc[:,('motif_score','count')]"
   ]
  },
  {
   "cell_type": "markdown",
   "metadata": {},
   "source": [
    "### Heatmap of TF count ### "
   ]
  },
  {
   "cell_type": "code",
   "execution_count": 12,
   "metadata": {
    "collapsed": true
   },
   "outputs": [],
   "source": [
    "import seaborn as sns; sns.set(color_codes=True)"
   ]
  },
  {
   "cell_type": "code",
   "execution_count": null,
   "metadata": {
    "collapsed": false
   },
   "outputs": [
    {
     "name": "stderr",
     "output_type": "stream",
     "text": [
      "/opt/easybuild/software/Core/Anaconda3/4.3.1/lib/python3.6/site-packages/matplotlib/cbook.py:136: MatplotlibDeprecationWarning: The axisbg attribute was deprecated in version 2.0. Use facecolor instead.\n",
      "  warnings.warn(message, mplDeprecation, stacklevel=1)\n"
     ]
    }
   ],
   "source": [
    "g = sns.clustermap(gb_df)"
   ]
  },
  {
   "cell_type": "code",
   "execution_count": null,
   "metadata": {
    "collapsed": true
   },
   "outputs": [],
   "source": []
  }
 ],
 "metadata": {
  "kernelspec": {
   "display_name": "Python [conda root]",
   "language": "python",
   "name": "conda-root-py"
  },
  "language_info": {
   "codemirror_mode": {
    "name": "ipython",
    "version": 3
   },
   "file_extension": ".py",
   "mimetype": "text/x-python",
   "name": "python",
   "nbconvert_exporter": "python",
   "pygments_lexer": "ipython3",
   "version": "3.6.0"
  }
 },
 "nbformat": 4,
 "nbformat_minor": 2
}
